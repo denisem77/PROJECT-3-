{
 "cells": [
  {
   "cell_type": "code",
   "execution_count": 4,
   "metadata": {},
   "outputs": [],
   "source": [
    "import pandas as pd"
   ]
  },
  {
   "cell_type": "code",
   "execution_count": null,
   "metadata": {},
   "outputs": [],
   "source": [
    "# Lets import our CSV so we can get to Verifying, Cleaning, and exporting.\n",
    "music_effect_path = \"..\\Resources\\mxmh_survey_results.csv\"\n",
    "\n",
    "music_metadata = pd.read_csv(music_effect_path)\n",
    "\n",
    "music_metadata"
   ]
  },
  {
   "cell_type": "code",
   "execution_count": null,
   "metadata": {},
   "outputs": [],
   "source": [
    "# How many rows is it? If any of the numbers are different, then it means there is empty data points...which need to be cleaned up\n",
    "music_metadata.count()"
   ]
  },
  {
   "cell_type": "code",
   "execution_count": 7,
   "metadata": {},
   "outputs": [],
   "source": [
    "# Lets dropped the extra baggage BagPerson! DROP THE ROWS WITH EMPTY DATA POINTS!!!!!!!\n",
    "music_metadata = music_metadata.dropna(how='any')"
   ]
  },
  {
   "cell_type": "code",
   "execution_count": null,
   "metadata": {},
   "outputs": [],
   "source": [
    "# Verify! REVERIFY! DO IT AGAIN!!!!...ok im satisfied...\n",
    "music_metadata.count()"
   ]
  },
  {
   "cell_type": "code",
   "execution_count": null,
   "metadata": {},
   "outputs": [],
   "source": [
    "#Lets verify the data types is uniform for the columns\n",
    "music_metadata.dtypes\n"
   ]
  },
  {
   "cell_type": "code",
   "execution_count": null,
   "metadata": {},
   "outputs": [],
   "source": [
    "# Update the data type for multiple colums at once.\n",
    "music_metadata = music_metadata.astype({\n",
    "    'Age' : 'int',  \n",
    "    'BPM' : 'int', \n",
    "    'Anxiety' : 'int',\n",
    "    'Depression': 'int',\n",
    "    'Insomnia' : 'int', \n",
    "    'OCD' : 'int'\n",
    "})\n",
    "\n",
    "music_metadata.dtypes"
   ]
  },
  {
   "cell_type": "code",
   "execution_count": null,
   "metadata": {},
   "outputs": [],
   "source": [
    "# Verify the changes \n",
    "music_metadata.head(10)"
   ]
  },
  {
   "cell_type": "code",
   "execution_count": 12,
   "metadata": {},
   "outputs": [],
   "source": [
    "# change the name of the data\n",
    "Cleaned_data = music_metadata"
   ]
  },
  {
   "cell_type": "code",
   "execution_count": null,
   "metadata": {},
   "outputs": [],
   "source": [
    "Cleaned_data.head(10)"
   ]
  },
  {
   "cell_type": "code",
   "execution_count": 21,
   "metadata": {},
   "outputs": [],
   "source": [
    "# Export into a csv file.\n",
    "Cleaned_data.to_csv(\"C:/Users/Denis/OneDrive/Desktop/PROJECT 3/Resources/MusicHealth2.csv\" , index=False, header=True)\n",
    "\n"
   ]
  }
 ],
 "metadata": {
  "kernelspec": {
   "display_name": "BigProject",
   "language": "python",
   "name": "python3"
  },
  "language_info": {
   "codemirror_mode": {
    "name": "ipython",
    "version": 3
   },
   "file_extension": ".py",
   "mimetype": "text/x-python",
   "name": "python",
   "nbconvert_exporter": "python",
   "pygments_lexer": "ipython3",
   "version": "3.12.4"
  }
 },
 "nbformat": 4,
 "nbformat_minor": 2
}
